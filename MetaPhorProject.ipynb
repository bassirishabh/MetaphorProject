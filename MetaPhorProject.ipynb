{
  "cells": [
    {
      "cell_type": "markdown",
      "source": [
        "# Metaphor API"
      ],
      "metadata": {
        "id": "wZHDWo91P8Ch"
      }
    },
    {
      "cell_type": "code",
      "source": [
        "pip install metaphor-python"
      ],
      "metadata": {
        "id": "GgHYSPTEWpQE",
        "outputId": "08c9542f-9103-42e0-d464-73a145f0d6cc",
        "colab": {
          "base_uri": "https://localhost:8080/"
        }
      },
      "execution_count": 1,
      "outputs": [
        {
          "output_type": "stream",
          "name": "stdout",
          "text": [
            "Collecting metaphor-python\n",
            "  Downloading metaphor_python-0.1.16-py3-none-any.whl (4.5 kB)\n",
            "Requirement already satisfied: requests in /usr/local/lib/python3.10/dist-packages (from metaphor-python) (2.31.0)\n",
            "Requirement already satisfied: charset-normalizer<4,>=2 in /usr/local/lib/python3.10/dist-packages (from requests->metaphor-python) (3.2.0)\n",
            "Requirement already satisfied: idna<4,>=2.5 in /usr/local/lib/python3.10/dist-packages (from requests->metaphor-python) (3.4)\n",
            "Requirement already satisfied: urllib3<3,>=1.21.1 in /usr/local/lib/python3.10/dist-packages (from requests->metaphor-python) (2.0.4)\n",
            "Requirement already satisfied: certifi>=2017.4.17 in /usr/local/lib/python3.10/dist-packages (from requests->metaphor-python) (2023.7.22)\n",
            "Installing collected packages: metaphor-python\n",
            "Successfully installed metaphor-python-0.1.16\n"
          ]
        }
      ]
    },
    {
      "cell_type": "markdown",
      "source": [
        "# Travel Recommendation System"
      ],
      "metadata": {
        "id": "2AVqk_7GQIAq"
      }
    },
    {
      "cell_type": "code",
      "source": [
        "import os\n",
        "from metaphor_python import Metaphor\n",
        "\n",
        "metaphor = Metaphor(\"e3244055-c604-4d9b-8ea5-a9d88e3cc5c8\")\n",
        "\n",
        "# Function to generate metaphorical queries\n",
        "def generate_metaphorical_query(user_input):\n",
        "    return user_input  # You can customize this function based on your needs\n",
        "\n",
        "# Function to search for travel destinations using the Metaphor API\n",
        "def search_travel_destinations(query):\n",
        "    search_response = metaphor.search(\n",
        "        query,\n",
        "        use_autoprompt=True,\n",
        "        start_published_date=\"2023-06-01\"\n",
        "    )\n",
        "    return search_response.results\n",
        "\n",
        "# Function to display travel recommendations\n",
        "def display_recommendations(results):\n",
        "    for result in results:\n",
        "        print(f\"Title: {result.title}\\nURL: {result.url}\\n\")\n",
        "\n",
        "# Main loop for user interaction\n",
        "while True:\n",
        "    user_input = input(\"Ask for travel recommendations or type 'exit' to quit: \")\n",
        "    if user_input.lower() == 'exit':\n",
        "        break\n",
        "    metaphorical_query = generate_metaphorical_query(user_input)\n",
        "    search_results = search_travel_destinations(metaphorical_query)\n",
        "    display_recommendations(search_results)"
      ],
      "metadata": {
        "id": "_bxzC_4wWueU",
        "outputId": "eab8feeb-f4a7-406d-a171-7195d899588c",
        "colab": {
          "base_uri": "https://localhost:8080/"
        }
      },
      "execution_count": 2,
      "outputs": [
        {
          "name": "stdout",
          "output_type": "stream",
          "text": [
            "Ask for travel recommendations or type 'exit' to quit: New York\n",
            "Title: How to Travel to New York City Cheaply: Our Top 35 Tips | Frommer's\n",
            "URL: https://www.frommers.com/tips/money-and-currency/how-to-travel-to-new-york-city-cheaply-our-top-35-tips\n",
            "\n",
            "Title: An EA's Guide to Visiting New York City — EA Forum\n",
            "URL: https://forum.effectivealtruism.org/posts/Yq6yKgBtaMgkgyetm/an-ea-s-guide-to-visiting-new-york-city\n",
            "\n",
            "Title: FluentlyForward New York City Recommendations — Fluently Forward\n",
            "URL: https://www.fluentlyforward.com/home4/the-fluentlyforward-guide-to-new-york-city\n",
            "\n",
            "Title: 12 things locals know about visiting New York State\n",
            "URL: https://www.lonelyplanet.com/articles/things-to-know-before-traveling-to-new-york-state\n",
            "\n",
            "Title: Seven things to do on your next visit to New York - TravelDailyNews International\n",
            "URL: https://www.traveldailynews.com/column/featured-articles/seven-things-to-do-on-your-next-visit-to-new-york/\n",
            "\n",
            "Title: Where to Eat in New York City This Summer\n",
            "URL: https://www.nytimes.com/interactive/2023/dining/new-york-summer-food-map.html\n",
            "\n",
            "Title: An ‘And Just Like That…’ Guide to New York City\n",
            "URL: https://www.cntraveler.com/story/an-and-just-like-that-guide-to-new-york-city\n",
            "\n",
            "Title: 36 Hours in Chicago\n",
            "URL: https://www.nytimes.com/interactive/2023/09/28/travel/things-to-do-chicago.html\n",
            "\n",
            "Title: 10 Fun Things to do in Albany, NY: A Newcomer’s Guide\n",
            "URL: https://www.redfin.com/blog/things-to-do-in-albany-ny/\n",
            "\n",
            "Title: 9 easy getaways from New York City if you don’t have a car\n",
            "URL: https://gothamist.com/arts-entertainment/9-easy-getaways-from-new-york-city-if-you-dont-have-a-car\n",
            "\n",
            "Ask for travel recommendations or type 'exit' to quit: exit\n"
          ]
        }
      ]
    },
    {
      "cell_type": "markdown",
      "source": [
        "# Advanced Travel Recommendation System based on User Profiles"
      ],
      "metadata": {
        "id": "nl3ZZj_hQNo0"
      }
    },
    {
      "cell_type": "code",
      "source": [
        "import os\n",
        "from metaphor_python import Metaphor\n",
        "\n",
        "# Initialize Metaphor API\n",
        "metaphor = Metaphor(\"e3244055-c604-4d9b-8ea5-a9d88e3cc5c8\")\n",
        "\n",
        "# Create a dictionary to store user profiles (replace with a database in production)\n",
        "user_profiles = {}\n",
        "\n",
        "# Function to get or create a user profile\n",
        "def get_user_profile(user_id):\n",
        "    if user_id not in user_profiles:\n",
        "        user_profiles[user_id] = {\"preferences\": [], \"history\": []}\n",
        "    return user_profiles[user_id]\n",
        "\n",
        "# Function to update user preferences\n",
        "def update_user_preferences(user_id, preferences):\n",
        "    user_profile = get_user_profile(user_id)\n",
        "    user_profile[\"preferences\"] = preferences\n",
        "\n",
        "# Function to update user history\n",
        "def update_user_history(user_id, query, results):\n",
        "    user_profile = get_user_profile(user_id)\n",
        "    user_profile[\"history\"].append({\"query\": query, \"results\": results})\n",
        "\n",
        "# Function to generate metaphorical queries based on user preferences and input\n",
        "def generate_metaphorical_query(user_id, user_input):\n",
        "    user_profile = get_user_profile(user_id)\n",
        "    user_input = user_input.lower()  # Convert user input to lowercase for case insensitivity\n",
        "\n",
        "    # Check if user has preferences and use them to generate queries\n",
        "    if user_profile[\"preferences\"]:\n",
        "        matching_preferences = [pref.lower() for pref in user_profile[\"preferences\"]]\n",
        "        query_suggestion = \" \".join(matching_preferences)  # Combine matching preferences into a query\n",
        "        query_suggestion += f\" {user_input}\"\n",
        "        return query_suggestion\n",
        "\n",
        "    # If no preferences, use a generic query\n",
        "    query_suggestion = \"popular travel destinations\"\n",
        "    query_suggestion += f\" {user_input}\"\n",
        "    return query_suggestion\n",
        "\n",
        "# Function to generate metaphorical queries based on user preferences and input\n",
        "def generate_metaphorical_guest_query(user_input):\n",
        "    user_input = user_input.lower()  # Convert user input to lowercase for case insensitivity\n",
        "\n",
        "    # If no preferences, use a generic query\n",
        "    query_suggestion = \"popular travel destinations \"\n",
        "    query_suggestion += f\" {user_input}\"\n",
        "    return query_suggestion\n",
        "\n",
        "# Function to search for travel destinations using the Metaphor API\n",
        "def search_travel_destinations(query):\n",
        "    search_response = metaphor.search(\n",
        "        query,\n",
        "        use_autoprompt=True,\n",
        "        start_published_date=\"2023-06-01\"\n",
        "    )\n",
        "    print(\"Query for User\",query)\n",
        "    return search_response.results\n",
        "\n",
        "# Function to display travel recommendations\n",
        "def display_recommendations(results):\n",
        "    for result in results:\n",
        "        print(f\"Title: {result.title}\\nURL: {result.url}\\n\")\n",
        "\n",
        "# Main loop for user interaction\n",
        "while True:\n",
        "    create_profile = input(\"Do you want to create a user profile? (yes/no): \")\n",
        "    if create_profile.lower() == 'no':\n",
        "       user_input = input(\"Ask for travel recommendations as guest or exit\")\n",
        "       if user_input.lower() == 'exit':\n",
        "        break\n",
        "       metaphorical_query = generate_metaphorical_guest_query(user_input)\n",
        "       search_results = search_travel_destinations(metaphorical_query)\n",
        "       display_recommendations(search_results)\n",
        "\n",
        "    else:\n",
        "        user_id = input(\"Enter your user ID (or 'exit' to quit): \")\n",
        "        if user_id.lower() == 'exit':\n",
        "            break\n",
        "        user_profile = get_user_profile(user_id)\n",
        "\n",
        "        preferences = input(\"Enter your preferences (e.g., beach, adventure): \").split(',')\n",
        "        update_user_preferences(user_id, preferences)\n",
        "        print(\"Preferences updated.\")\n",
        "        user_input = input(\"Ask for travel recommendations, create/update preferences, or 'exit': \")\n",
        "        if user_id.lower() == 'exit':\n",
        "            break\n",
        "        metaphorical_query = generate_metaphorical_query(user_id, user_input)\n",
        "        search_results = search_travel_destinations(metaphorical_query)\n",
        "        display_recommendations(search_results)\n",
        "\n",
        "        # Update user history\n",
        "        update_user_history(user_id, user_input, search_results)\n"
      ],
      "metadata": {
        "colab": {
          "base_uri": "https://localhost:8080/"
        },
        "id": "3mTxDlsZ92B6",
        "outputId": "2cafbf01-daf9-443f-805a-d4c89e579352"
      },
      "execution_count": 16,
      "outputs": [
        {
          "name": "stdout",
          "output_type": "stream",
          "text": [
            "Do you want to create a user profile? (yes/no): no\n",
            "Ask for travel recommendations as guest or exitNew york\n",
            "Query for User popular travel destinations  new york\n",
            "Title: An ‘And Just Like That…’ Guide to New York City\n",
            "URL: https://www.cntraveler.com/story/an-and-just-like-that-guide-to-new-york-city\n",
            "\n",
            "Title: 12 things locals know about visiting New York State\n",
            "URL: https://www.lonelyplanet.com/articles/things-to-know-before-traveling-to-new-york-state\n",
            "\n",
            "Title: How to Travel to New York City Cheaply: Our Top 35 Tips | Frommer's\n",
            "URL: https://www.frommers.com/tips/money-and-currency/how-to-travel-to-new-york-city-cheaply-our-top-35-tips\n",
            "\n",
            "Title: Seven things to do on your next visit to New York - TravelDailyNews International\n",
            "URL: https://www.traveldailynews.com/column/featured-articles/seven-things-to-do-on-your-next-visit-to-new-york/\n",
            "\n",
            "Title: New York City - Insider\n",
            "URL: https://www.insider.com/category/new-york-city\n",
            "\n",
            "Title: New York City - Insider\n",
            "URL: https://www.businessinsider.com/category/new-york-city\n",
            "\n",
            "Title: New York - Insider\n",
            "URL: https://www.insider.com/category/new-york\n",
            "\n",
            "Title: New York - Insider\n",
            "URL: https://www.businessinsider.com/category/new-york\n",
            "\n",
            "Title: ‘Rat tours’ boom in rodent-infested New York\n",
            "URL: https://www.theguardian.com/us-news/2023/sep/04/new-york-city-rats-tourism\n",
            "\n",
            "Title: A Successful Venture to The Compleat Strategist\n",
            "URL: https://www.tenkarstavern.com/2023/07/a-successful-venture-to-compleat.html\n",
            "\n",
            "Do you want to create a user profile? (yes/no): yes\n",
            "Enter your user ID (or 'exit' to quit): 1\n",
            "Enter your preferences (e.g., beach, adventure): beach\n",
            "Preferences updated.\n",
            "Ask for travel recommendations, create/update preferences, or 'exit': new york\n",
            "Query for User beach new york\n",
            "Title: Coney Island Beach closed to swimmers due to sewage, storm runoff\n",
            "URL: https://gothamist.com/news/coney-island-beach-closed-to-swimmers-due-to-sewage-storm-runoff\n",
            "\n",
            "Title: How a Trans ‘Doll Invasion’ Took Over a Historically White, Cis Vacation Spot in Fire Island\n",
            "URL: https://www.vogue.com/article/trans-doll-invasion-fire-island-photos\n",
            "\n",
            "Title: #GANSEVOORTPENINSULA News\n",
            "URL: https://biztoc.com/t/gansevoortpeninsula\n",
            "\n",
            "Title: On Fire Island, a Home for Art — and the Artists Who Make It\n",
            "URL: https://www.nytimes.com/2023/08/31/t-magazine/ilan-cohen-fire-island-pines-house.html\n",
            "\n",
            "Title: #GANSEVOORTSTREET News\n",
            "URL: https://biztoc.com/t/gansevoortstreet\n",
            "\n",
            "Title: How Hudson River Park Helped Revitalize Manhattan’s West Side\n",
            "URL: https://www.nytimes.com/2023/09/19/business/hudson-river-park-development-manhattan.html\n",
            "\n",
            "Title: ELLE Escapes: The Hamptons\n",
            "URL: https://www.elle.com/culture/travel-food/a40406155/the-hamptons-travel-review/?utm_campaign=socialflowTWELM&utm_source=twitter&utm_medium=social-media\n",
            "\n",
            "Title: None\n",
            "URL: https://twitter.com/d0unbug/status/1685798702701592577\n",
            "\n",
            "Title: #CONEYISLANDBEACH News\n",
            "URL: https://biztoc.com/t/coneyislandbeach\n",
            "\n",
            "Title: None\n",
            "URL: https://twitter.com/EmpireStateBldg/status/1672411615227002882\n",
            "\n",
            "Do you want to create a user profile? (yes/no): no\n",
            "Ask for travel recommendations as guest or exitexit\n"
          ]
        }
      ]
    },
    {
      "cell_type": "markdown",
      "source": [
        "# Travel Recommendation Detailed Itinerary"
      ],
      "metadata": {
        "id": "50eY4IADV527"
      }
    },
    {
      "cell_type": "code",
      "source": [
        "import os\n",
        "from metaphor_python import Metaphor\n",
        "\n",
        "metaphor = Metaphor(\"e3244055-c604-4d9b-8ea5-a9d88e3cc5c8\")\n",
        "\n",
        "# Function to generate metaphorical queries\n",
        "def generate_metaphorical_query(user_input):\n",
        "    return user_input  # You can customize this function based on your needs\n",
        "\n",
        "# Function to search for travel destinations using the Metaphor API\n",
        "def search_travel_destinations(query):\n",
        "    search_response = metaphor.search(\n",
        "        query,\n",
        "        use_autoprompt=True,\n",
        "        start_published_date=\"2023-06-01\"\n",
        "    )\n",
        "    return search_response.results\n",
        "\n",
        "# Function to display travel recommendations\n",
        "def display_recommendations(results):\n",
        "    for result in results:\n",
        "        print(f\"Title: {result.title}\\nURL: {result.url}\\n\")\n",
        "\n",
        "# Main loop for user interaction\n",
        "while True:\n",
        "    user_input = input(\"Enter a travel city or type 'exit' to quit: \")\n",
        "    if user_input.lower() == 'exit':\n",
        "        break\n",
        "\n",
        "    # Ask the user for their preference\n",
        "    category_input = input(\"Choose a category: Nightlife, Beaches, Hotels, Parks: \")\n",
        "\n",
        "    # Generate a metaphorical query based on city and category\n",
        "    metaphorical_query = generate_metaphorical_query(f\"{user_input} {category_input}\")\n",
        "\n",
        "    # Search for travel destinations\n",
        "    search_results = search_travel_destinations(metaphorical_query)\n",
        "\n",
        "    # Display travel recommendations\n",
        "    display_recommendations(search_results)\n"
      ],
      "metadata": {
        "colab": {
          "base_uri": "https://localhost:8080/"
        },
        "id": "b0UMrV-bWCVl",
        "outputId": "63cc3ac8-7978-4a7d-8ac4-e233205839a4"
      },
      "execution_count": 17,
      "outputs": [
        {
          "name": "stdout",
          "output_type": "stream",
          "text": [
            "Enter a travel city or type 'exit' to quit: New York\n",
            "Choose a category: Nightlife, Beaches, Hotels, Parks: Hotels\n",
            "Title: Empire Hotel - New York City - Upper West Side 4-Star Hotel\n",
            "URL: https://www.empirehotelnyc.com/\n",
            "\n",
            "Title: Hampton Inn by Hilton New York Times Square\n",
            "URL: https://www.hilton.com/en/hotels/nycychx-hampton-new-york-times-square/\n",
            "\n",
            "Title: Tempo by Hilton New York Times Square\n",
            "URL: https://www.hilton.com/en/hotels/nyctepo-tempo-new-york-times-square/\n",
            "\n",
            "Title: Motto by Hilton New York City Chelsea\n",
            "URL: https://www.hilton.com/en/hotels/nycdlua-motto-new-york-city-chelsea/?SEO_id=GMB-AMER-UA-NYCDLUA&amp;y_source=1_Mjc3MjkzNzctNzE1LWxvY2F0aW9uLndlYnNpdGU%3D\n",
            "\n",
            "Title: #WALDORFASTORIAHOTEL News\n",
            "URL: https://biztoc.com/t/waldorfastoriahotel\n",
            "\n",
            "Title: Home\n",
            "URL: https://arlohotels.com/williamsburg/\n",
            "\n",
            "Title: What it's like staying at Aman New York, 1 of the most expensive hotels in NYC - The Points Guy\n",
            "URL: https://thepointsguy.com/reviews/aman-new-york/\n",
            "\n",
            "Title: Inside the Manhattan Hotel That Is the New Ellis Island\n",
            "URL: https://www.nytimes.com/2023/09/21/nyregion/roosevelt-hotel-migrant-crisis.html\n",
            "\n",
            "Title: Hotel in Brooklyn New York | avid hotel Brooklyn – Dyker Heights\n",
            "URL: https://www.ihg.com/avidhotels/hotels/us/en/brooklyn/nycav/hoteldetail\n",
            "\n",
            "Title: The William Vale Reviews, Deals & Photos 2023 - Expedia\n",
            "URL: https://www.expedia.com/New-York-Hotels-The-William-Vale.h11971622.Hotel-Information?clickref=1100lwVK2Uj8&affcid=US.DIRECT.PHG.1101l4847.0&ref_id=1100lwVK2Uj8&my_ad=AFF.US.DIRECT.PHG.1101l4847.0&afflid=1100lwVK2Uj8\n",
            "\n",
            "Enter a travel city or type 'exit' to quit: exit\n"
          ]
        }
      ]
    },
    {
      "cell_type": "markdown",
      "source": [
        "# Finding Similar Hotels"
      ],
      "metadata": {
        "id": "dEDZq83dWv_t"
      }
    },
    {
      "cell_type": "code",
      "source": [
        "import os\n",
        "from metaphor_python import Metaphor\n",
        "\n",
        "metaphor = Metaphor(\"e3244055-c604-4d9b-8ea5-a9d88e3cc5c8\")\n",
        "\n",
        "\n",
        "# Function to generate metaphorical queries\n",
        "def generate_metaphorical_query(user_input):\n",
        "    return user_input  # You can customize this function based on your needs\n",
        "\n",
        "# Function to search for travel destinations using the Metaphor API\n",
        "def get_similar(query):\n",
        "\n",
        "    response = metaphor.find_similar(\n",
        "      query,\n",
        "      num_results=10,\n",
        "    )\n",
        "    return response.results\n",
        "\n",
        "# Function to display travel recommendations\n",
        "def display_recommendations(results):\n",
        "    for result in results:\n",
        "        print(f\"Title: {result.title}\\nURL: {result.url}\\n\")\n",
        "\n",
        "# Main loop for user interaction\n",
        "while True:\n",
        "    user_input = input(\"Enter a place or hotel URL for which you find similar places or exit : \")\n",
        "    if user_input.lower() == 'exit':\n",
        "        break\n",
        "\n",
        "\n",
        "    # Generate a metaphorical query based on city and category\n",
        "    metaphorical_query = generate_metaphorical_query(user_input)\n",
        "\n",
        "    # Search for travel destinations\n",
        "    search_results = get_similar(metaphorical_query)\n",
        "\n",
        "    # Display travel recommendations\n",
        "    display_recommendations(search_results)\n"
      ],
      "metadata": {
        "colab": {
          "base_uri": "https://localhost:8080/"
        },
        "id": "g594XW3pWzRV",
        "outputId": "abebdef7-6f3a-4931-ce21-2f2b0a14de0b"
      },
      "execution_count": 19,
      "outputs": [
        {
          "name": "stdout",
          "output_type": "stream",
          "text": [
            "Enter a place or hotel URL for which you find similar places or exit : https://thepointsguy.com/reviews/aman-new-york/\n",
            "Title: What it's like staying at Aman New York, 1 of the most expensive hotels in NYC - The Points Guy\n",
            "URL: https://thepointsguy.com/reviews/aman-new-york/\n",
            "\n",
            "Title: We toured Aman New York, the city's most expensive (and exclusive) new hotel - The Points Guy\n",
            "URL: https://thepointsguy.com/news/aman-new-york-tour/?tw=1\n",
            "\n",
            "Title: The Standard, High Line review: Where you can feel cool while getting a good night's sleep - The Points Guy\n",
            "URL: https://thepointsguy.com/reviews/standard-high-line/\n",
            "\n",
            "Title: Dubai's most lavish hotel to date: My stay at Atlantis The Royal - The Points Guy\n",
            "URL: https://thepointsguy.com/reviews/atlantis-the-royal-dubai/\n",
            "\n",
            "Title: Did the classic stay timeless? (Re)living the dream at The St. Regis New York - The Points Guy\n",
            "URL: https://thepointsguy.com/reviews/st-regis-new-york/\n",
            "\n",
            "Title: The Ned Nomad hotel review - The Points Guy - The Points Guy\n",
            "URL: https://thepointsguy.com/reviews/ned-nomad/\n",
            "\n",
            "Title: Practically perfect: A review of the Park Hyatt New York - The Points Guy\n",
            "URL: https://thepointsguy.com/reviews/park-hyatt-new-york-hotel/\n",
            "\n",
            "Title: Art-lover's paradise: A review of the Conrad New York Downtown - The Points Guy\n",
            "URL: https://thepointsguy.com/reviews/conrad-new-york-downtown/\n",
            "\n",
            "Title: Home Away From Home: A Review of the Park Hyatt New York - The Points Guy\n",
            "URL: https://thepointsguy.com/reviews/park-hyatt-new-york/\n",
            "\n",
            "Title: The 23 best hotels in New York City even New Yorkers love - The Points Guy\n",
            "URL: https://thepointsguy.com/guide/best-hotels-in-nyc/\n",
            "\n",
            "Enter a place or hotel URL for which you find similar places or exit : exit\n"
          ]
        }
      ]
    }
  ],
  "metadata": {
    "colab": {
      "toc_visible": true,
      "provenance": []
    },
    "kernelspec": {
      "display_name": "Python 3",
      "name": "python3"
    }
  },
  "nbformat": 4,
  "nbformat_minor": 0
}